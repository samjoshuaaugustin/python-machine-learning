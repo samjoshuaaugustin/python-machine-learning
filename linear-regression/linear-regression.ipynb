{
 "cells": [
  {
   "cell_type": "code",
   "execution_count": 1,
   "id": "85060c05-e069-4d3f-9263-861dc100b907",
   "metadata": {},
   "outputs": [],
   "source": [
    "import pandas as pd\n",
    "import numpy as np"
   ]
  },
  {
   "cell_type": "code",
   "execution_count": 2,
   "id": "19a05ed6-73e8-4860-91cd-ac70a0cb4b8f",
   "metadata": {},
   "outputs": [],
   "source": [
    "def linear_regression(X, y, learning_rate=0.01, tolerance=1e-4, max_iter=1000):\n",
    "    \"\"\"\n",
    "    Performs linear regression using gradient descent\n",
    "    \"\"\"\n",
    "    X = X.values # To extract the underlying NumPy array from a pandas DataFrame or Series.\n",
    "    y = y.values\n",
    "    \n",
    "    m, n = X.shape # Where m -> number of records and n -> number of features.\n",
    "    w = np.zeros(n)\n",
    "    b = 0\n",
    "\n",
    "    for i in range(max_iter):\n",
    "        y_hat = np.dot(X, w) + b #w, b values are initialized as 0\n",
    "\n",
    "        cost = (1/2) * (1/m) * (y_hat - y)**2\n",
    "\n",
    "        dw = (1/m) * np.dot(X.T, (y_hat - y))\n",
    "        db = (1/m) * np.sum(y_hat - y)\n",
    "\n",
    "        w -= learning_rate * dw\n",
    "        b -= learning_rate * db\n",
    "        \n",
    "        if i > 0 and abs(np.sum(cost-prev_cost)) < tolerance:\n",
    "            break\n",
    "        prev_cost = cost\n",
    "        \n",
    "    return w, b   "
   ]
  },
  {
   "cell_type": "code",
   "execution_count": 3,
   "id": "b275a007-18e8-41c1-a795-8e1c0f300411",
   "metadata": {},
   "outputs": [
    {
     "name": "stdout",
     "output_type": "stream",
     "text": [
      "   x_1   y\n",
      "0    1   3\n",
      "1    2   5\n",
      "2    3   7\n",
      "3    4   9\n",
      "4    5  11\n",
      "5    6  13\n",
      "6    7  15\n",
      "7    8  17\n",
      "8    9  19\n"
     ]
    }
   ],
   "source": [
    "df = pd.read_csv('lr-training-set.csv')\n",
    "print(df)"
   ]
  },
  {
   "cell_type": "code",
   "execution_count": 4,
   "id": "8dbf98a2-6d83-4778-ba14-0bb82c924fcf",
   "metadata": {},
   "outputs": [
    {
     "name": "stdout",
     "output_type": "stream",
     "text": [
      "   x_1\n",
      "0    1\n",
      "1    2\n",
      "2    3\n",
      "3    4\n",
      "4    5\n",
      "5    6\n",
      "6    7\n",
      "7    8\n",
      "8    9\n"
     ]
    }
   ],
   "source": [
    "features = df.iloc[:,:-1]\n",
    "print(features)"
   ]
  },
  {
   "cell_type": "code",
   "execution_count": 5,
   "id": "0c433a89-f2fb-451c-a033-4fe5124261f5",
   "metadata": {},
   "outputs": [
    {
     "name": "stdout",
     "output_type": "stream",
     "text": [
      "0     3\n",
      "1     5\n",
      "2     7\n",
      "3     9\n",
      "4    11\n",
      "5    13\n",
      "6    15\n",
      "7    17\n",
      "8    19\n",
      "Name: y, dtype: int64\n"
     ]
    }
   ],
   "source": [
    "target = df.iloc[:,-1]\n",
    "print(target)"
   ]
  },
  {
   "cell_type": "code",
   "execution_count": 6,
   "id": "df2c2c55-bf7b-4b82-ae61-51abe53ab6ee",
   "metadata": {},
   "outputs": [
    {
     "name": "stdout",
     "output_type": "stream",
     "text": [
      "[2.07610015] 0.5211581759725455\n"
     ]
    }
   ],
   "source": [
    "w, b = linear_regression(features,target)\n",
    "print(w, b)"
   ]
  },
  {
   "cell_type": "code",
   "execution_count": 7,
   "id": "59fd7793-ea24-41ee-9a1d-f2fc5be64daa",
   "metadata": {},
   "outputs": [
    {
     "data": {
      "text/plain": [
       "array([21.28215966, 23.3582598 , 25.43435995])"
      ]
     },
     "execution_count": 7,
     "metadata": {},
     "output_type": "execute_result"
    }
   ],
   "source": [
    "new_X = np.array([[10], [11], [12]])\n",
    "new_y_hat = np.dot(new_X, w) + b\n",
    "new_y_hat"
   ]
  }
 ],
 "metadata": {
  "kernelspec": {
   "display_name": "Python 3 (ipykernel)",
   "language": "python",
   "name": "python3"
  },
  "language_info": {
   "codemirror_mode": {
    "name": "ipython",
    "version": 3
   },
   "file_extension": ".py",
   "mimetype": "text/x-python",
   "name": "python",
   "nbconvert_exporter": "python",
   "pygments_lexer": "ipython3",
   "version": "3.13.0"
  }
 },
 "nbformat": 4,
 "nbformat_minor": 5
}
